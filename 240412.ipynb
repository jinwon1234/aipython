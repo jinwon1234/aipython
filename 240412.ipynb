{
  "nbformat": 4,
  "nbformat_minor": 0,
  "metadata": {
    "colab": {
      "provenance": [],
      "authorship_tag": "ABX9TyNBPxpZLMzIvUtEdVSpygXb",
      "include_colab_link": true
    },
    "kernelspec": {
      "name": "python3",
      "display_name": "Python 3"
    },
    "language_info": {
      "name": "python"
    }
  },
  "cells": [
    {
      "cell_type": "markdown",
      "metadata": {
        "id": "view-in-github",
        "colab_type": "text"
      },
      "source": [
        "<a href=\"https://colab.research.google.com/github/jinwon1234/aipython/blob/main/240412.ipynb\" target=\"_parent\"><img src=\"https://colab.research.google.com/assets/colab-badge.svg\" alt=\"Open In Colab\"/></a>"
      ]
    },
    {
      "cell_type": "code",
      "execution_count": 1,
      "metadata": {
        "colab": {
          "base_uri": "https://localhost:8080/"
        },
        "id": "HYhrzS2Z4so6",
        "outputId": "72131073-6001-4c8d-f166-90c421ed0cd2"
      },
      "outputs": [
        {
          "output_type": "stream",
          "name": "stdout",
          "text": [
            "apple\n"
          ]
        }
      ],
      "source": [
        "fruits = [\"banana\", \"apple\", \"orange\", \"cherry\"]\n",
        "print(fruits[1])"
      ]
    },
    {
      "cell_type": "code",
      "source": [
        "numbers = [10,20,30,40,50]\n",
        "print(numbers[-1])"
      ],
      "metadata": {
        "colab": {
          "base_uri": "https://localhost:8080/"
        },
        "id": "IF9cl2DhCidU",
        "outputId": "1c21cd96-e14f-483b-d58e-01c7302444a5"
      },
      "execution_count": 2,
      "outputs": [
        {
          "output_type": "stream",
          "name": "stdout",
          "text": [
            "50\n"
          ]
        }
      ]
    },
    {
      "cell_type": "code",
      "source": [
        "fruits = [\"apple\",\"banana\", \"cherry\"]\n",
        "fruits[1] = \"grape\"\n",
        "print(fruits)"
      ],
      "metadata": {
        "colab": {
          "base_uri": "https://localhost:8080/"
        },
        "id": "gdx4fBN2CtHD",
        "outputId": "ef254e18-bbd0-4f5a-deab-2b6e0f8ebc95"
      },
      "execution_count": 4,
      "outputs": [
        {
          "output_type": "stream",
          "name": "stdout",
          "text": [
            "['apple', 'grape', 'cherry']\n"
          ]
        }
      ]
    },
    {
      "cell_type": "code",
      "source": [
        "fruits = [\"apple\",\"banana\", \"cherry\"]\n",
        "fruits.append('strawberry')\n",
        "print(fruits)"
      ],
      "metadata": {
        "colab": {
          "base_uri": "https://localhost:8080/"
        },
        "id": "cqZW9aEBC9VM",
        "outputId": "02ec0f76-3a16-4d01-9c33-21368285c984"
      },
      "execution_count": 5,
      "outputs": [
        {
          "output_type": "stream",
          "name": "stdout",
          "text": [
            "['apple', 'banana', 'cherry', 'strawberry']\n"
          ]
        }
      ]
    },
    {
      "cell_type": "code",
      "source": [
        "numbers = [10,20,30,40,50]\n",
        "numbers.remove(30)\n",
        "print(numbers)"
      ],
      "metadata": {
        "colab": {
          "base_uri": "https://localhost:8080/"
        },
        "id": "3YK-xu1ADFNS",
        "outputId": "07d8f4ec-b18d-45f6-d964-a55d734decba"
      },
      "execution_count": 6,
      "outputs": [
        {
          "output_type": "stream",
          "name": "stdout",
          "text": [
            "[10, 20, 40, 50]\n"
          ]
        }
      ]
    },
    {
      "cell_type": "code",
      "source": [
        "numbers = [5,10,15,20,25]\n",
        "print(len(numbers))"
      ],
      "metadata": {
        "colab": {
          "base_uri": "https://localhost:8080/"
        },
        "id": "qaTYyARHE1IF",
        "outputId": "96571cd8-c068-4426-86f3-f4eb9f91e828"
      },
      "execution_count": 10,
      "outputs": [
        {
          "output_type": "stream",
          "name": "stdout",
          "text": [
            "5\n"
          ]
        }
      ]
    },
    {
      "cell_type": "code",
      "source": [
        "numbers = [10,5,8,3,15]\n",
        "print(min(numbers), max(numbers))"
      ],
      "metadata": {
        "colab": {
          "base_uri": "https://localhost:8080/"
        },
        "id": "RHks1WYeE738",
        "outputId": "f7e8c118-1957-43d9-ba98-85dc51bb49ae"
      },
      "execution_count": 11,
      "outputs": [
        {
          "output_type": "stream",
          "name": "stdout",
          "text": [
            "3 15\n"
          ]
        }
      ]
    },
    {
      "cell_type": "code",
      "source": [
        "numbers = [10,20,30,40,50]\n",
        "print(sum(numbers))"
      ],
      "metadata": {
        "colab": {
          "base_uri": "https://localhost:8080/"
        },
        "id": "RajD5TMnE9AO",
        "outputId": "45de3b68-14c4-4a4b-e285-0112347424f4"
      },
      "execution_count": 12,
      "outputs": [
        {
          "output_type": "stream",
          "name": "stdout",
          "text": [
            "150\n"
          ]
        }
      ]
    },
    {
      "cell_type": "code",
      "source": [
        "numbers = [1,2,3,4,5]\n",
        "for i in range(len(numbers)):\n",
        "  numbers[i] = numbers[i] ** 2\n",
        "print(numbers)\n"
      ],
      "metadata": {
        "colab": {
          "base_uri": "https://localhost:8080/"
        },
        "id": "zf0y4A8tDQbD",
        "outputId": "798e6087-851a-47fa-ec06-7760cd879aae"
      },
      "execution_count": 8,
      "outputs": [
        {
          "output_type": "stream",
          "name": "stdout",
          "text": [
            "[1, 4, 9, 16, 25]\n"
          ]
        }
      ]
    },
    {
      "cell_type": "code",
      "source": [
        "fruits = [\"apple\",\"banana\",\"apple\",\"cherry\",\"apple\"]\n",
        "fruits.count('apple')"
      ],
      "metadata": {
        "colab": {
          "base_uri": "https://localhost:8080/"
        },
        "id": "j1Z4DHrwDk5Z",
        "outputId": "ed70ee16-6a2d-40dd-ffc7-d47f38b045be"
      },
      "execution_count": 9,
      "outputs": [
        {
          "output_type": "execute_result",
          "data": {
            "text/plain": [
              "3"
            ]
          },
          "metadata": {},
          "execution_count": 9
        }
      ]
    },
    {
      "cell_type": "code",
      "source": [
        "def square(x):\n",
        "  result =  x**2\n",
        "  return result"
      ],
      "metadata": {
        "id": "VegnBoTcLpJF"
      },
      "execution_count": 18,
      "outputs": []
    },
    {
      "cell_type": "code",
      "source": [
        "ret = square(6)\n",
        "print(ret)"
      ],
      "metadata": {
        "colab": {
          "base_uri": "https://localhost:8080/"
        },
        "id": "2HNJZk_CLu1a",
        "outputId": "c05269f4-885b-476a-ddd5-3c352c30a6a5"
      },
      "execution_count": 14,
      "outputs": [
        {
          "output_type": "stream",
          "name": "stdout",
          "text": [
            "36\n"
          ]
        }
      ]
    },
    {
      "cell_type": "code",
      "source": [
        "def square(numbers):\n",
        "  newlst = []\n",
        "  for num in numbers:\n",
        "    newlst.append(num**2)\n",
        "  return newlst\n"
      ],
      "metadata": {
        "id": "7VoDA_TbN1Yn"
      },
      "execution_count": 20,
      "outputs": []
    },
    {
      "cell_type": "code",
      "source": [
        "new = square([1,2,3,4,5])\n",
        "print(new)"
      ],
      "metadata": {
        "colab": {
          "base_uri": "https://localhost:8080/"
        },
        "id": "dGIdmJlsM3D4",
        "outputId": "5a87cac3-6204-4655-a87b-a6767ec6e503"
      },
      "execution_count": 21,
      "outputs": [
        {
          "output_type": "stream",
          "name": "stdout",
          "text": [
            "[1, 4, 9, 16, 25]\n"
          ]
        }
      ]
    },
    {
      "cell_type": "code",
      "source": [
        "def BMI(h,w):\n",
        "  return w / (h*0.01) ** 2"
      ],
      "metadata": {
        "id": "j_vjtFX8PhLd"
      },
      "execution_count": 26,
      "outputs": []
    },
    {
      "cell_type": "code",
      "source": [
        "결과 = BMI(190,90)\n",
        "print(결과)"
      ],
      "metadata": {
        "colab": {
          "base_uri": "https://localhost:8080/"
        },
        "id": "i2E2eYIYPuPt",
        "outputId": "9df16238-efba-41fc-f328-f3fc9860d8c1"
      },
      "execution_count": 27,
      "outputs": [
        {
          "output_type": "stream",
          "name": "stdout",
          "text": [
            "24.93074792243767\n"
          ]
        }
      ]
    }
  ]
}