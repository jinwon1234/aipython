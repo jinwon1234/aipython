{
  "nbformat": 4,
  "nbformat_minor": 0,
  "metadata": {
    "colab": {
      "provenance": [],
      "authorship_tag": "ABX9TyP7RZnCoQ86s9y1bCRH5JK8",
      "include_colab_link": true
    },
    "kernelspec": {
      "name": "python3",
      "display_name": "Python 3"
    },
    "language_info": {
      "name": "python"
    }
  },
  "cells": [
    {
      "cell_type": "markdown",
      "metadata": {
        "id": "view-in-github",
        "colab_type": "text"
      },
      "source": [
        "<a href=\"https://colab.research.google.com/github/jinwon1234/aipython/blob/main/240419.ipynb\" target=\"_parent\"><img src=\"https://colab.research.google.com/assets/colab-badge.svg\" alt=\"Open In Colab\"/></a>"
      ]
    },
    {
      "cell_type": "code",
      "execution_count": 6,
      "metadata": {
        "colab": {
          "base_uri": "https://localhost:8080/"
        },
        "id": "yzf1h79C5Zsz",
        "outputId": "4c457851-498e-4d1a-a460-3bc5684ef65e"
      },
      "outputs": [
        {
          "output_type": "stream",
          "name": "stdout",
          "text": [
            "학생의 점수를 입력하세요.90\n",
            "학생의 점수를 입력하세요.70\n",
            "학생의 점수를 입력하세요.30\n",
            "학생의 점수를 입력하세요.x\n",
            "입력 데이터 출력 : [90, 70, 30]\n",
            "합계 : 190\n",
            "인원수 : 3\n",
            "평균 : 63.333333333333336\n"
          ]
        }
      ],
      "source": [
        "total = 0\n",
        "scores = []\n",
        "while True:\n",
        "  score = input('학생의 점수를 입력하세요.')\n",
        "  if score.isdigit():\n",
        "    scores.append(int(score))\n",
        "  else:\n",
        "    break\n",
        "\n",
        "print('입력 데이터 출력 :', scores)\n",
        "print('합계 :', sum(scores))\n",
        "print('인원수 :', len(scores))\n",
        "print('평균 :', sum(scores) / len(scores))"
      ]
    },
    {
      "cell_type": "code",
      "source": [
        "txt = \"apple#banana#cherry#orange\"\n",
        "x = txt.split('#')\n",
        "print(x)"
      ],
      "metadata": {
        "colab": {
          "base_uri": "https://localhost:8080/"
        },
        "id": "EtXMSg79FYFc",
        "outputId": "57e4d648-a3ce-4c87-a028-58676bd8ef5b"
      },
      "execution_count": 7,
      "outputs": [
        {
          "output_type": "stream",
          "name": "stdout",
          "text": [
            "['apple', 'banana', 'cherry', 'orange']\n"
          ]
        }
      ]
    },
    {
      "cell_type": "code",
      "source": [
        "input = {'Python', 'Java', 'Ruby'}\n",
        "output = '->'.join(input)\n",
        "print(output)"
      ],
      "metadata": {
        "colab": {
          "base_uri": "https://localhost:8080/"
        },
        "id": "nWQxPuxOGJyl",
        "outputId": "8f8b1b0e-0b4b-421b-b467-8fc6374595fb"
      },
      "execution_count": 9,
      "outputs": [
        {
          "output_type": "stream",
          "name": "stdout",
          "text": [
            "Python->Java->Ruby\n"
          ]
        }
      ]
    },
    {
      "cell_type": "code",
      "source": [
        "number_list = [x ** 2 for x in range(10) if x % 2 == 0]\n",
        "print(number_list)"
      ],
      "metadata": {
        "colab": {
          "base_uri": "https://localhost:8080/"
        },
        "id": "74EOu3I9JGJs",
        "outputId": "fa50277e-df4b-44c2-8a38-54e90d05278c"
      },
      "execution_count": 10,
      "outputs": [
        {
          "output_type": "stream",
          "name": "stdout",
          "text": [
            "[0, 4, 16, 36, 64]\n"
          ]
        }
      ]
    },
    {
      "cell_type": "code",
      "source": [
        "citys = [\"Seoul\", \"New York\", \"London\", \"Shanghai\", \"Paris\", \"Tokyo\"]\n",
        "new_list = [city for city in citys if city.startswith('S')]\n",
        "print(new_list)"
      ],
      "metadata": {
        "colab": {
          "base_uri": "https://localhost:8080/"
        },
        "id": "oJLFg6tvNXNy",
        "outputId": "1c8bde4b-3d0a-4859-ef43-a773a248a08f"
      },
      "execution_count": 11,
      "outputs": [
        {
          "output_type": "stream",
          "name": "stdout",
          "text": [
            "['Seoul', 'Shanghai']\n"
          ]
        }
      ]
    },
    {
      "cell_type": "code",
      "source": [
        "nums = [1,2,3,4,5,6,7,8,9,10]\n",
        "odd_nums = list(filter(lambda x: x % 2 !=0, nums))\n",
        "print(odd_nums)"
      ],
      "metadata": {
        "colab": {
          "base_uri": "https://localhost:8080/"
        },
        "id": "uUyhth-jPING",
        "outputId": "7c175611-3674-487d-f423-068dc03f8c34"
      },
      "execution_count": 12,
      "outputs": [
        {
          "output_type": "stream",
          "name": "stdout",
          "text": [
            "[1, 3, 5, 7, 9]\n"
          ]
        }
      ]
    },
    {
      "cell_type": "code",
      "source": [
        "nums = [1,2,3,4,5,6,7,8,9,10]\n",
        "new_nums = list(filter(lambda x: x % 2 ==0, nums))\n",
        "print(new_nums)"
      ],
      "metadata": {
        "colab": {
          "base_uri": "https://localhost:8080/"
        },
        "id": "sQlfj776QDCb",
        "outputId": "0592ca05-6b18-4232-fbbd-93f928af667f"
      },
      "execution_count": 14,
      "outputs": [
        {
          "output_type": "stream",
          "name": "stdout",
          "text": [
            "[2, 4, 6, 8, 10]\n"
          ]
        }
      ]
    },
    {
      "cell_type": "code",
      "source": [
        "input = ['Python', 'Java', 'Javascript']\n",
        "output = [(idx, lang) for idx, lang in enumerate(input)]\n",
        "print(output)"
      ],
      "metadata": {
        "colab": {
          "base_uri": "https://localhost:8080/"
        },
        "id": "Mnc5DQ5mQv__",
        "outputId": "829a26b9-179d-45d0-e2ec-a91868dc7f26"
      },
      "execution_count": 21,
      "outputs": [
        {
          "output_type": "stream",
          "name": "stdout",
          "text": [
            "[(0, 'Python'), (1, 'Java'), (2, 'Javascript')]\n"
          ]
        }
      ]
    },
    {
      "cell_type": "code",
      "source": [
        "input = ['Python', 'Java', 'Javascript']\n",
        "output = [(idx, lang) for idx, lang in enumerate(input, start = 1)]\n",
        "print(output)"
      ],
      "metadata": {
        "colab": {
          "base_uri": "https://localhost:8080/"
        },
        "id": "hg7deWfxRsd1",
        "outputId": "80f175a9-4c51-43bb-8bf3-a16e8b27b02b"
      },
      "execution_count": 23,
      "outputs": [
        {
          "output_type": "stream",
          "name": "stdout",
          "text": [
            "[(1, 'Python'), (2, 'Java'), (3, 'Javascript')]\n"
          ]
        }
      ]
    },
    {
      "cell_type": "code",
      "source": [
        "scores = [88, 92, 78, 60, 75, 95]\n",
        "def convert_to_grade(score):\n",
        "  if score >= 90:\n",
        "    return 'A'\n",
        "  elif score >= 80:\n",
        "    return 'B'\n",
        "  elif score >= 70:\n",
        "    return 'C'\n",
        "  elif score >= 60:\n",
        "    return 'D'\n",
        "  else:\n",
        "    return 'F'\n",
        "output = list(map(convert_to_grade, scores))\n",
        "print(output)\n",
        "\n"
      ],
      "metadata": {
        "colab": {
          "base_uri": "https://localhost:8080/"
        },
        "id": "g9zBCWDFUDnc",
        "outputId": "f820d375-a6c5-43d8-98ca-74ac1882973b"
      },
      "execution_count": 31,
      "outputs": [
        {
          "output_type": "stream",
          "name": "stdout",
          "text": [
            "['B', 'A', 'C', 'D', 'C', 'A']\n"
          ]
        }
      ]
    },
    {
      "cell_type": "code",
      "source": [
        "ages = [5, 12, 17, 18, 24, 32]\n",
        "output = list(filter(lambda x: x >= 18, ages))\n",
        "print(output)"
      ],
      "metadata": {
        "colab": {
          "base_uri": "https://localhost:8080/"
        },
        "id": "BrBqoZ25VckG",
        "outputId": "c63c0a13-b076-4a53-8e32-b2c6ba11c912"
      },
      "execution_count": 33,
      "outputs": [
        {
          "output_type": "stream",
          "name": "stdout",
          "text": [
            "[18, 24, 32]\n"
          ]
        }
      ]
    }
  ]
}